{
 "cells": [
  {
   "cell_type": "code",
   "execution_count": 4,
   "id": "0f97854f-4607-43d2-90df-8d5f8d903c98",
   "metadata": {},
   "outputs": [
    {
     "name": "stdout",
     "output_type": "stream",
     "text": [
      "1/1 [==============================] - 0s 228ms/step\n",
      "1/1 [==============================] - 0s 87ms/step\n",
      "The image is recognized as 'Airplane' with confidence 50.00%.\n"
     ]
    }
   ],
   "source": [
    "import numpy as np\n",
    "from tensorflow.keras.models import load_model\n",
    "from tensorflow.keras.preprocessing.image import load_img, img_to_array\n",
    "\n",
    "#Loading pre trained models - you can find it in Project1 and Project3\n",
    "model_cifar10 = load_model(\"cifar10_model.h5\")\n",
    "model_cifar100 = load_model(\"cifar100_model.h5\")\n",
    "\n",
    "#Externally labelled classes\n",
    "CIFAR10_LABELS = [\n",
    "    'Airplane', 'Automobile', 'Bird', 'Cat', 'Deer', \n",
    "    'Dog', 'Frog', 'Horse', 'Ship', 'Truck'\n",
    "]\n",
    "#Externally labelled classes\n",
    "CIFAR100_LABELS = [\n",
    " \"apple\", \"aquarium_fish\", \"baby\", \"bear\", \"beaver\", \"bed\", \"bee\", \"beetle\",\n",
    "    \"bicycle\", \"bottle\", \"bowl\", \"boy\", \"bridge\", \"bus\", \"butterfly\", \"camel\",\n",
    "    \"can\", \"castle\", \"caterpillar\", \"cattle\", \"chair\", \"chimpanzee\", \"clock\",\n",
    "    \"cloud\", \"cockroach\", \"couch\", \"crab\", \"crocodile\", \"cup\", \"dinosaur\",\n",
    "    \"dolphin\", \"elephant\", \"flatfish\", \"forest\", \"fox\", \"girl\", \"hamster\",\n",
    "    \"house\", \"kangaroo\", \"keyboard\", \"lamp\", \"lawn_mower\", \"leopard\", \"lion\",\n",
    "    \"lizard\", \"lobster\", \"man\", \"maple_tree\", \"motorcycle\", \"mountain\", \"mouse\",\n",
    "    \"mushroom\", \"oak_tree\", \"orange\", \"orchid\", \"otter\", \"palm_tree\", \"pear\",\n",
    "    \"pickup_truck\", \"pine_tree\", \"plain\", \"plate\", \"poppy\", \"porcupine\", \"possum\",\n",
    "    \"rabbit\", \"raccoon\", \"ray\", \"road\", \"rocket\", \"rose\", \"sea\", \"seal\",\n",
    "    \"shark\", \"shrew\", \"skunk\", \"skyscraper\", \"snail\", \"snake\", \"spider\", \"squirrel\",\n",
    "    \"streetcar\", \"sunflower\", \"sweet_pepper\", \"table\", \"tank\", \"telephone\", \"television\",\n",
    "    \"tiger\", \"tractor\", \"train\", \"trout\", \"tulip\", \"turtle\", \"wardrobe\", \"whale\",\n",
    "    \"willow_tree\", \"wolf\", \"woman\", \"worm\"\n",
    "   \n",
    "]\n",
    "\n",
    "\n",
    "COMBINED_LABELS = CIFAR10_LABELS + CIFAR100_LABELS\n",
    "\n",
    "def predict_combined(image_path):\n",
    "    \n",
    "    image = load_img(image_path, target_size=(32, 32))\n",
    "    image_array = img_to_array(image) / 255.0\n",
    "    image_array = np.expand_dims(image_array, axis=0)\n",
    "\n",
    "    # Get predictions from both models\n",
    "    prediction_cifar10 = model_cifar10.predict(image_array)\n",
    "    prediction_cifar100 = model_cifar100.predict(image_array)\n",
    "\n",
    "    # Extend CIFAR-10 predictions to match the 110-class space\n",
    "    extended_cifar10 = np.zeros(110)\n",
    "    extended_cifar10[:10] = prediction_cifar10[0]\n",
    "\n",
    "    # Combine predictions (soft voting)\n",
    "    combined_prediction = (extended_cifar10 + np.pad(prediction_cifar100[0], (10, 0))) / 2\n",
    "\n",
    "    # Get the final class\n",
    "    class_id = np.argmax(combined_prediction)\n",
    "    confidence = combined_prediction[class_id] * 100\n",
    "    label = COMBINED_LABELS[class_id]\n",
    "\n",
    "    return label, confidence\n",
    "\n",
    "\n",
    "image_path = \"air1.jpg\"  #Give your image path , while testing\n",
    "label, confidence = predict_combined(image_path)\n",
    "print(f\"The image is recognized as '{label}' with confidence {confidence:.2f}%.\")\n"
   ]
  },
  {
   "cell_type": "code",
   "execution_count": null,
   "id": "3ed38ed0-8dc5-47e0-89aa-efba78bc9534",
   "metadata": {},
   "outputs": [],
   "source": []
  }
 ],
 "metadata": {
  "kernelspec": {
   "display_name": "Python 3 (ipykernel)",
   "language": "python",
   "name": "python3"
  },
  "language_info": {
   "codemirror_mode": {
    "name": "ipython",
    "version": 3
   },
   "file_extension": ".py",
   "mimetype": "text/x-python",
   "name": "python",
   "nbconvert_exporter": "python",
   "pygments_lexer": "ipython3",
   "version": "3.9.20"
  }
 },
 "nbformat": 4,
 "nbformat_minor": 5
}
