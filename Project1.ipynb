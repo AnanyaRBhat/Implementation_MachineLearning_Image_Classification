{
 "cells": [
  {
   "cell_type": "code",
   "execution_count": 2,
   "id": "dfda66a9-7041-4fd5-9e04-aa4356656423",
   "metadata": {},
   "outputs": [],
   "source": [
    "import tensorflow as tf\n",
    "from tensorflow.keras.models import Sequential\n",
    "from tensorflow.keras.layers import Dense, Flatten, Conv2D, MaxPooling2D\n",
    "from tensorflow.keras.datasets import cifar10\n",
    "from tensorflow.keras.utils import to_categorical"
   ]
  },
  {
   "cell_type": "code",
   "execution_count": 3,
   "id": "61d352d6-eaae-4303-9bff-24c7fd403ea7",
   "metadata": {},
   "outputs": [
    {
     "name": "stdout",
     "output_type": "stream",
     "text": [
      "Downloading data from https://www.cs.toronto.edu/~kriz/cifar-10-python.tar.gz\n",
      "170498071/170498071 [==============================] - 48s 0us/step\n"
     ]
    }
   ],
   "source": [
    "(x_train, y_train), (x_test, y_test) = cifar10.load_data()\n",
    "x_train, x_test = x_train / 255.0, x_test / 255.0\n",
    "y_train, y_test = to_categorical(y_train), to_categorical(y_test)"
   ]
  },
  {
   "cell_type": "code",
   "execution_count": 5,
   "id": "eed8dea5-129c-4296-9977-7481a6fc6ca2",
   "metadata": {},
   "outputs": [
    {
     "name": "stdout",
     "output_type": "stream",
     "text": [
      "Epoch 1/30\n",
      "1563/1563 [==============================] - 8s 5ms/step - loss: 1.5082 - accuracy: 0.4646 - val_loss: 1.3088 - val_accuracy: 0.5372\n",
      "Epoch 2/30\n",
      "1563/1563 [==============================] - 6s 4ms/step - loss: 1.2164 - accuracy: 0.5748 - val_loss: 1.1664 - val_accuracy: 0.5880\n",
      "Epoch 3/30\n",
      "1563/1563 [==============================] - 6s 4ms/step - loss: 1.1062 - accuracy: 0.6136 - val_loss: 1.1302 - val_accuracy: 0.6069\n",
      "Epoch 4/30\n",
      "1563/1563 [==============================] - 6s 4ms/step - loss: 1.0321 - accuracy: 0.6429 - val_loss: 1.1105 - val_accuracy: 0.6122\n",
      "Epoch 5/30\n",
      "1563/1563 [==============================] - 6s 4ms/step - loss: 0.9731 - accuracy: 0.6621 - val_loss: 1.0800 - val_accuracy: 0.6252\n",
      "Epoch 6/30\n",
      "1563/1563 [==============================] - 6s 4ms/step - loss: 0.9214 - accuracy: 0.6793 - val_loss: 1.0949 - val_accuracy: 0.6289\n",
      "Epoch 7/30\n",
      "1563/1563 [==============================] - 7s 4ms/step - loss: 0.8855 - accuracy: 0.6912 - val_loss: 1.0905 - val_accuracy: 0.6321\n",
      "Epoch 8/30\n",
      "1563/1563 [==============================] - 6s 4ms/step - loss: 0.8462 - accuracy: 0.7071 - val_loss: 1.0751 - val_accuracy: 0.6285\n",
      "Epoch 9/30\n",
      "1563/1563 [==============================] - 6s 4ms/step - loss: 0.8151 - accuracy: 0.7179 - val_loss: 1.0876 - val_accuracy: 0.6339\n",
      "Epoch 10/30\n",
      "1563/1563 [==============================] - 6s 4ms/step - loss: 0.7837 - accuracy: 0.7271 - val_loss: 1.1374 - val_accuracy: 0.6277\n",
      "Epoch 11/30\n",
      "1563/1563 [==============================] - 6s 4ms/step - loss: 0.7589 - accuracy: 0.7369 - val_loss: 1.0931 - val_accuracy: 0.6350\n",
      "Epoch 12/30\n",
      "1563/1563 [==============================] - 6s 4ms/step - loss: 0.7280 - accuracy: 0.7465 - val_loss: 1.1476 - val_accuracy: 0.6283\n",
      "Epoch 13/30\n",
      "1563/1563 [==============================] - 6s 4ms/step - loss: 0.7057 - accuracy: 0.7546 - val_loss: 1.1263 - val_accuracy: 0.6381\n",
      "Epoch 14/30\n",
      "1563/1563 [==============================] - 6s 4ms/step - loss: 0.6792 - accuracy: 0.7638 - val_loss: 1.1871 - val_accuracy: 0.6289\n",
      "Epoch 15/30\n",
      "1563/1563 [==============================] - 6s 4ms/step - loss: 0.6569 - accuracy: 0.7714 - val_loss: 1.1708 - val_accuracy: 0.6344\n",
      "Epoch 16/30\n",
      "1563/1563 [==============================] - 6s 4ms/step - loss: 0.6343 - accuracy: 0.7786 - val_loss: 1.1949 - val_accuracy: 0.6365\n",
      "Epoch 17/30\n",
      "1563/1563 [==============================] - 7s 4ms/step - loss: 0.6092 - accuracy: 0.7853 - val_loss: 1.2195 - val_accuracy: 0.6321\n",
      "Epoch 18/30\n",
      "1563/1563 [==============================] - 6s 4ms/step - loss: 0.5942 - accuracy: 0.7922 - val_loss: 1.2236 - val_accuracy: 0.6320\n",
      "Epoch 19/30\n",
      "1563/1563 [==============================] - 6s 4ms/step - loss: 0.5744 - accuracy: 0.7969 - val_loss: 1.2774 - val_accuracy: 0.6193\n",
      "Epoch 20/30\n",
      "1563/1563 [==============================] - 7s 4ms/step - loss: 0.5615 - accuracy: 0.8028 - val_loss: 1.3993 - val_accuracy: 0.6035\n",
      "Epoch 21/30\n",
      "1563/1563 [==============================] - 6s 4ms/step - loss: 0.5390 - accuracy: 0.8108 - val_loss: 1.3479 - val_accuracy: 0.6189\n",
      "Epoch 22/30\n",
      "1563/1563 [==============================] - 6s 4ms/step - loss: 0.5140 - accuracy: 0.8181 - val_loss: 1.3558 - val_accuracy: 0.6237\n",
      "Epoch 23/30\n",
      "1563/1563 [==============================] - 6s 4ms/step - loss: 0.4975 - accuracy: 0.8241 - val_loss: 1.3952 - val_accuracy: 0.6242\n",
      "Epoch 24/30\n",
      "1563/1563 [==============================] - 6s 4ms/step - loss: 0.4745 - accuracy: 0.8332 - val_loss: 1.4541 - val_accuracy: 0.6189\n",
      "Epoch 25/30\n",
      "1563/1563 [==============================] - 7s 4ms/step - loss: 0.4550 - accuracy: 0.8377 - val_loss: 1.4785 - val_accuracy: 0.6196\n",
      "Epoch 26/30\n",
      "1563/1563 [==============================] - 6s 4ms/step - loss: 0.4423 - accuracy: 0.8432 - val_loss: 1.5898 - val_accuracy: 0.6017\n",
      "Epoch 27/30\n",
      "1563/1563 [==============================] - 6s 4ms/step - loss: 0.4214 - accuracy: 0.8531 - val_loss: 1.5385 - val_accuracy: 0.6265\n",
      "Epoch 28/30\n",
      "1563/1563 [==============================] - 6s 4ms/step - loss: 0.4051 - accuracy: 0.8574 - val_loss: 1.5678 - val_accuracy: 0.6192\n",
      "Epoch 29/30\n",
      "1563/1563 [==============================] - 6s 4ms/step - loss: 0.3900 - accuracy: 0.8630 - val_loss: 1.6336 - val_accuracy: 0.6207\n",
      "Epoch 30/30\n",
      "1563/1563 [==============================] - 6s 4ms/step - loss: 0.3705 - accuracy: 0.8692 - val_loss: 1.7255 - val_accuracy: 0.6096\n"
     ]
    },
    {
     "data": {
      "text/plain": [
       "<keras.callbacks.History at 0x1bb2e2221c0>"
      ]
     },
     "execution_count": 5,
     "metadata": {},
     "output_type": "execute_result"
    }
   ],
   "source": [
    "model = Sequential([\n",
    "    Conv2D(32, (3, 3), activation='relu', input_shape=(32, 32, 3)),\n",
    "    MaxPooling2D((2, 2)),\n",
    "    Flatten(),\n",
    "    Dense(64, activation='relu'),\n",
    "    Dense(10, activation='softmax')\n",
    "])\n",
    "\n",
    "model.compile(optimizer='adam', \n",
    "              loss='categorical_crossentropy', \n",
    "              metrics=['accuracy'])\n",
    "\n",
    "model.fit(x_train, y_train, epochs=30, validation_data=(x_test, y_test))\n"
   ]
  },
  {
   "cell_type": "code",
   "execution_count": 6,
   "id": "f0253e2c-e235-4640-a54b-3217c9d18095",
   "metadata": {},
   "outputs": [],
   "source": [
    "model.save('cifar10_model.h5')\n"
   ]
  },
  {
   "cell_type": "code",
   "execution_count": null,
   "id": "b268e507-03eb-4393-bce7-c27ef040c26c",
   "metadata": {},
   "outputs": [],
   "source": []
  }
 ],
 "metadata": {
  "kernelspec": {
   "display_name": "Python 3 (ipykernel)",
   "language": "python",
   "name": "python3"
  },
  "language_info": {
   "codemirror_mode": {
    "name": "ipython",
    "version": 3
   },
   "file_extension": ".py",
   "mimetype": "text/x-python",
   "name": "python",
   "nbconvert_exporter": "python",
   "pygments_lexer": "ipython3",
   "version": "3.9.20"
  }
 },
 "nbformat": 4,
 "nbformat_minor": 5
}
